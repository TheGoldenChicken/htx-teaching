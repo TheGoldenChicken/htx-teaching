{
 "cells": [
  {
   "cell_type": "markdown",
   "metadata": {},
   "source": [
    "# Intro til machine learning\n",
    "\n",
    "# Tilføj lidt om matematisk notation, altså sandsynlighed og sådan  \n",
    "*På en forhåbentlig pædagogisk måde*\n",
    "\n",
    "Dette er ment som et dokument til at introducere (hvad jeg synes) de væsentligste koncepter for at komme ier nd i Machine Learning. Det er både ment til undervisere og elever. Undervisere skal føle sig velkomne til at fjerne dele af notebook'en for at lave spørgsmål eller opgaver, da jeg som udgangspunkt bare laver dette som et slags opslagsværk.\n",
    "\n",
    "Jeg differentierer mellem forskellige emner ved at et nyt emne vil have en ny...\n",
    "\n",
    "## Overskrift\n",
    "\n",
    "...så efter det kan man forvente at emnet ændrer sig. Jeg vil ikke anbefale man springer over celler i samme overskrift, men man kan snildt hoppe over enkelte emner. Hver af dem burde gerne være lavet til at være uafhængige fra hinanden.\n",
    "\n",
    "\n",
    "### Note om noterne (meta note)\n",
    "\n",
    "Dette er en ipython notebook, oftest kaldet en *Jupyter* notebook. Dette består af tekstceller som denne (som er skrevet i og formateret som MarkDown) og normale Python Celler. Vær opmærksom på at man godt kan køre celler uafhængit fra hinanden, men variable er delt imellem alle celler. Dette betyder, at hvus man springer celler over man ikke burde, kan man komme ud for at variable der bruges af celler længere nede ikke er defineret fordi man mangler at køre cellerne længere oppe.\n",
    "\n",
    "Hvis man har uddybende spørgsmål eller kommentarer til stoffet, er I velkomne til at kontakte mig (Karl) på dderpson99@gmail.com, eller åbne en issue på github siden **github link goes here!!!!** "
   ]
  },
  {
   "cell_type": "markdown",
   "metadata": {},
   "source": [
    "## Kort primer\n",
    "\n",
    "Her er hvor man normalt ville skrive lidt om historien af ML, om hvordan Gauss opdagede lineær regression som 4-årige, og at egypterne brugte det til at forudse hvordan vejret ville påvirke deres bygning af pyramiderne. Jeg ved ikke meget om det, og let's face it, det er sku ikke så vigtigt.\n",
    "\n",
    "Det vigtige er at Machine Learning er kommet for at blive, er blevet ufatteligt vigtigt på ufatteligt kort tid, og er ufatteligt dårligt forstået, og til tider, helt misforstået af den generelle befolkning.\n",
    "\n",
    "Ikke at blive forveklet med *Kunstig Intelligens*, som bare er at lave beslutninger ud fra regler helt generelt, så er *Machine Learning* specifikt at optimale beslutningsregler ud fra data. Denne måske pedantiske forskel, bliver alligevel specielt vigtig at huske når moderne \"snake-oil\" firmaer begynder at hævde de bruger både den ene og den anden slags kunstig intelligens i deres produkter. Dette er iblandt det mest intetsigende man kan hævde i nutidens verden, da et eksempel på kunstig intelligens kunne være så simpelt som følgende: "
   ]
  },
  {
   "cell_type": "code",
   "execution_count": null,
   "metadata": {
    "vscode": {
     "languageId": "plaintext"
    }
   },
   "outputs": [],
   "source": [
    "a_very_important_number = 5\n",
    "\n",
    "if a_very_important_number == 5:\n",
    "    print(\"Important business decision\")\n",
    "\n",
    "else:\n",
    "    print(\"Another impotant business decision\")"
   ]
  },
  {
   "cell_type": "markdown",
   "metadata": {},
   "source": [
    "Ingen in their right mind ville hævde dette er værd noget andet end en 1.g's introducerende programmeringsøvelse, men det opfylder teknisk set kravene for kunstig intelligens. Givetvis, kravene er ilde defineret, og jeg hævder ikke at jeg har de rigtige og \"universally agreed-upon\" svar på hvad de er, men min erfaring siger at dette faktisk er hvad der menes når man plejer at sige Kunstig Intelligens er supersettet af Machine Learning (machine learning er en delmængde af Kunstig Intelligens.)\n",
    "\n",
    "### Men hvad gør ML rent faktisk?\n",
    "\n",
    "Overall plejer man differentiere mellem forskellige træningsmetoder og anvedelsesmetoder af kunstig intelligens: **Supervised Learning** , **Unsupervised Learning** og **Reinforcement Learning**. \n",
    "\n",
    "Supervised- og Unsupervised Learning er typisk hvad man snakker mest om, både da de er nemmest at forklare, og fordi (much to my dismay), har mest praktisk anvendelse. \n",
    "\n",
    "#### Supervised Learning\n",
    "\n",
    "\n",
    "#### Unsupervised Learning\n",
    "\n",
    "\n",
    "### Men hvad med anvendelserne du nævnte?\n",
    "\n",
    "Jah, jeg nævnte der er forskellige typer af anvendelse. Det er ikke så vigtigt i vores forstand, men godt nok at have med, (specielt i dagens dag af ChatGPT, Dall-E og Stable Diffusion). Supervised- og Unsupervised Learning har typisk en af to anvendelses cases: **Generativ Modlering** og **Diskriminativ Modelering** "
   ]
  },
  {
   "cell_type": "markdown",
   "metadata": {},
   "source": []
  },
  {
   "cell_type": "markdown",
   "metadata": {},
   "source": []
  }
 ],
 "metadata": {
  "language_info": {
   "name": "python"
  }
 },
 "nbformat": 4,
 "nbformat_minor": 2
}
